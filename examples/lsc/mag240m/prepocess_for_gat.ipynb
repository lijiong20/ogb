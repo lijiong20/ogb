{
 "cells": [
  {
   "cell_type": "code",
   "execution_count": null,
   "id": "c3d5b961",
   "metadata": {},
   "outputs": [],
   "source": [
    "import os\n",
    "from ogb.lsc import MAG240MDataset\n",
    "import numpy as np\n",
    "import torch\n",
    "import os\n",
    "import time\n",
    "import glob\n",
    "import argparse\n",
    "import os.path as osp\n",
    "from tqdm import tqdm\n",
    "\n",
    "from typing import Optional, List, NamedTuple\n",
    "\n",
    "import torch\n",
    "from torch import Tensor\n",
    "import torch.nn.functional as F\n",
    "from torch.nn import ModuleList, Sequential, Linear, BatchNorm1d, ReLU, Dropout\n",
    "from torch.optim.lr_scheduler import StepLR\n",
    "\n",
    "from pytorch_lightning.metrics import Accuracy\n",
    "from pytorch_lightning.callbacks import ModelCheckpoint\n",
    "from pytorch_lightning import (LightningDataModule, LightningModule, Trainer,\n",
    "                               seed_everything)\n",
    "\n",
    "from torch_sparse import SparseTensor\n",
    "from torch_geometric.nn import SAGEConv, GATConv\n",
    "from torch_geometric.data import NeighborSampler\n",
    "\n",
    "from ogb.lsc import MAG240MDataset, MAG240MEvaluator\n",
    "from root import ROOT\n",
    "from torch_geometric.data import DataLoader"
   ]
  },
  {
   "cell_type": "code",
   "execution_count": 1,
   "id": "838ead63",
   "metadata": {},
   "outputs": [],
   "source": [
    "import gc"
   ]
  },
  {
   "cell_type": "code",
   "execution_count": null,
   "id": "84236a4f",
   "metadata": {},
   "outputs": [],
   "source": [
    "def get_2_hop(idx,n):\n",
    "    dad_idx=[]\n",
    "    son_idx=[]\n",
    "    set_i=set(idx)\n",
    "    for i in range(n):\n",
    "        if edge_index[0][i] in set_i:\n",
    "            dad_idx.append(edge_index[1][i])\n",
    "        elif edge_index[1][i] in set_i:\n",
    "            son_idx.append(edge_index[0][i])\n",
    "        if i%100000000==0:\n",
    "            print(i)\n",
    "    return [set(dad_idx),set(son_idx)]"
   ]
  },
  {
   "cell_type": "code",
   "execution_count": null,
   "id": "4168a290",
   "metadata": {},
   "outputs": [],
   "source": [
    "dataset = MAG240MDataset(ROOT)\n",
    "edge_index = dataset.edge_index('paper', 'cites', 'paper')\n",
    "m,n=edge_index.shape\n",
    "train_idx=dataset.get_idx_split('train')\n",
    "val_idx=dataset.get_idx_split('valid')\n",
    "test_idx=dataset.get_idx_split('test')\n",
    "trva_idx=np.concatenate((train_idx,val_idx))"
   ]
  },
  {
   "cell_type": "code",
   "execution_count": null,
   "id": "d58b21cc",
   "metadata": {},
   "outputs": [],
   "source": [
    "trva_i=get_2_hop(trva_idx,n)"
   ]
  },
  {
   "cell_type": "code",
   "execution_count": null,
   "id": "7d13ab72",
   "metadata": {},
   "outputs": [],
   "source": [
    "dad_i=trva_i[0]\n",
    "son_i=trva_i[1]\n",
    "tr_i=set(trva_idx)\n",
    "print(len(dad_i))\n",
    "print(len(son_i))\n",
    "print(len(tr_i))"
   ]
  },
  {
   "cell_type": "code",
   "execution_count": null,
   "id": "a3a7cedb",
   "metadata": {},
   "outputs": [],
   "source": [
    "train_edge=[x.tolist() for x in edge_index.T if (x[0] in trson_i or x[1] in dad_i)]\n",
    "train_edge=np.array(train_edge).T\n",
    "len(train_edge[0])"
   ]
  },
  {
   "cell_type": "code",
   "execution_count": null,
   "id": "9e04bbe7",
   "metadata": {},
   "outputs": [],
   "source": [
    "torch.save(train_edge,'trva_edge.pt')"
   ]
  },
  {
   "cell_type": "code",
   "execution_count": null,
   "id": "c094c5f2",
   "metadata": {},
   "outputs": [],
   "source": [
    "del edge_index\n",
    "gc.collect()\n",
    "#train_edge=torch.load('trva_edge.pt')"
   ]
  },
  {
   "cell_type": "code",
   "execution_count": null,
   "id": "d011bd02",
   "metadata": {},
   "outputs": [],
   "source": [
    "train_edge=torch.from_numpy(train_edge)\n",
    "row_tmp=train_edge[0]\n",
    "col_tmp=train_edge[1]\n",
    "path = f'./paper_to_paper_symmetric.pt'\n",
    "t = time.perf_counter()\n",
    "print('Converting adjacency matrix...', end=' ', flush=True)\n",
    "#edge_index = dataset.edge_index('paper', 'cites', 'paper')\n",
    "#edge_index = torch.from_numpy(edge_index)\n",
    "adj_t = SparseTensor(\n",
    "    row=row_tmp.to(torch.long),col=col_tmp.to(torch.long),\n",
    "    sparse_sizes=(len(row_tmp), len(row_tmp)),\n",
    "    is_sorted=True)\n",
    "torch.save(adj_t.to_symmetric(), path)\n",
    "print(f'Done! [{time.perf_counter() - t:.2f}s]')"
   ]
  }
 ],
 "metadata": {
  "kernelspec": {
   "display_name": "Python 3",
   "language": "python",
   "name": "python3"
  },
  "language_info": {
   "codemirror_mode": {
    "name": "ipython",
    "version": 3
   },
   "file_extension": ".py",
   "mimetype": "text/x-python",
   "name": "python",
   "nbconvert_exporter": "python",
   "pygments_lexer": "ipython3",
   "version": "3.7.10"
  }
 },
 "nbformat": 4,
 "nbformat_minor": 5
}
